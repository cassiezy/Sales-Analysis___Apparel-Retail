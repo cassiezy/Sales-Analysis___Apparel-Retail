{
 "cells": [
  {
   "cell_type": "code",
   "execution_count": 1,
   "metadata": {},
   "outputs": [],
   "source": [
    "import pandas as pd\n",
    "import numpy as np\n",
    "import matplotlib.pyplot as plt\n",
    "\n",
    "%matplotlib inline"
   ]
  },
  {
   "cell_type": "code",
   "execution_count": 2,
   "metadata": {},
   "outputs": [],
   "source": [
    "import seaborn as sns\n",
    "sns.set(style=\"whitegrid\")"
   ]
  },
  {
   "cell_type": "markdown",
   "metadata": {},
   "source": [
    "# Import Data"
   ]
  },
  {
   "cell_type": "code",
   "execution_count": 3,
   "metadata": {},
   "outputs": [
    {
     "data": {
      "text/plain": [
       "(22293, 13)"
      ]
     },
     "execution_count": 3,
     "metadata": {},
     "output_type": "execute_result"
    }
   ],
   "source": [
    "uni = pd.read_csv('week1.unique.csv')\n",
    "uni.shape"
   ]
  },
  {
   "cell_type": "code",
   "execution_count": 4,
   "metadata": {},
   "outputs": [],
   "source": [
    "uni['profit']=(uni['unit_price']-uni['unit_cost'])*uni['quant']"
   ]
  },
  {
   "cell_type": "code",
   "execution_count": 5,
   "metadata": {},
   "outputs": [
    {
     "data": {
      "text/html": [
       "<div>\n",
       "<style scoped>\n",
       "    .dataframe tbody tr th:only-of-type {\n",
       "        vertical-align: middle;\n",
       "    }\n",
       "\n",
       "    .dataframe tbody tr th {\n",
       "        vertical-align: top;\n",
       "    }\n",
       "\n",
       "    .dataframe thead th {\n",
       "        text-align: right;\n",
       "    }\n",
       "</style>\n",
       "<table border=\"1\" class=\"dataframe\">\n",
       "  <thead>\n",
       "    <tr style=\"text-align: right;\">\n",
       "      <th></th>\n",
       "      <th>store_id</th>\n",
       "      <th>city</th>\n",
       "      <th>channel</th>\n",
       "      <th>gender_group</th>\n",
       "      <th>age_group</th>\n",
       "      <th>wkd_ind</th>\n",
       "      <th>product</th>\n",
       "      <th>customer</th>\n",
       "      <th>revenue</th>\n",
       "      <th>order</th>\n",
       "      <th>quant</th>\n",
       "      <th>unit_cost</th>\n",
       "      <th>unit_price</th>\n",
       "      <th>profit</th>\n",
       "    </tr>\n",
       "  </thead>\n",
       "  <tbody>\n",
       "    <tr>\n",
       "      <td>0</td>\n",
       "      <td>658</td>\n",
       "      <td>深圳</td>\n",
       "      <td>线下</td>\n",
       "      <td>Female</td>\n",
       "      <td>25-29</td>\n",
       "      <td>Weekday</td>\n",
       "      <td>当季新品</td>\n",
       "      <td>4</td>\n",
       "      <td>796.0</td>\n",
       "      <td>4</td>\n",
       "      <td>4</td>\n",
       "      <td>59</td>\n",
       "      <td>199</td>\n",
       "      <td>560</td>\n",
       "    </tr>\n",
       "    <tr>\n",
       "      <td>1</td>\n",
       "      <td>146</td>\n",
       "      <td>杭州</td>\n",
       "      <td>线下</td>\n",
       "      <td>Female</td>\n",
       "      <td>25-29</td>\n",
       "      <td>Weekday</td>\n",
       "      <td>运动</td>\n",
       "      <td>1</td>\n",
       "      <td>149.0</td>\n",
       "      <td>1</td>\n",
       "      <td>1</td>\n",
       "      <td>49</td>\n",
       "      <td>149</td>\n",
       "      <td>100</td>\n",
       "    </tr>\n",
       "    <tr>\n",
       "      <td>2</td>\n",
       "      <td>70</td>\n",
       "      <td>深圳</td>\n",
       "      <td>线下</td>\n",
       "      <td>Male</td>\n",
       "      <td>&gt;=60</td>\n",
       "      <td>Weekday</td>\n",
       "      <td>T恤</td>\n",
       "      <td>2</td>\n",
       "      <td>178.0</td>\n",
       "      <td>2</td>\n",
       "      <td>2</td>\n",
       "      <td>49</td>\n",
       "      <td>89</td>\n",
       "      <td>80</td>\n",
       "    </tr>\n",
       "    <tr>\n",
       "      <td>3</td>\n",
       "      <td>658</td>\n",
       "      <td>深圳</td>\n",
       "      <td>线下</td>\n",
       "      <td>Female</td>\n",
       "      <td>25-29</td>\n",
       "      <td>Weekday</td>\n",
       "      <td>T恤</td>\n",
       "      <td>1</td>\n",
       "      <td>59.0</td>\n",
       "      <td>1</td>\n",
       "      <td>1</td>\n",
       "      <td>49</td>\n",
       "      <td>59</td>\n",
       "      <td>10</td>\n",
       "    </tr>\n",
       "    <tr>\n",
       "      <td>4</td>\n",
       "      <td>229</td>\n",
       "      <td>深圳</td>\n",
       "      <td>线下</td>\n",
       "      <td>Male</td>\n",
       "      <td>20-24</td>\n",
       "      <td>Weekend</td>\n",
       "      <td>袜子</td>\n",
       "      <td>2</td>\n",
       "      <td>65.0</td>\n",
       "      <td>2</td>\n",
       "      <td>3</td>\n",
       "      <td>9</td>\n",
       "      <td>22</td>\n",
       "      <td>39</td>\n",
       "    </tr>\n",
       "    <tr>\n",
       "      <td>5</td>\n",
       "      <td>28</td>\n",
       "      <td>武汉</td>\n",
       "      <td>线上</td>\n",
       "      <td>Female</td>\n",
       "      <td>35-39</td>\n",
       "      <td>Weekend</td>\n",
       "      <td>T恤</td>\n",
       "      <td>1</td>\n",
       "      <td>97.0</td>\n",
       "      <td>1</td>\n",
       "      <td>1</td>\n",
       "      <td>49</td>\n",
       "      <td>97</td>\n",
       "      <td>48</td>\n",
       "    </tr>\n",
       "    <tr>\n",
       "      <td>6</td>\n",
       "      <td>649</td>\n",
       "      <td>杭州</td>\n",
       "      <td>线下</td>\n",
       "      <td>Female</td>\n",
       "      <td>25-29</td>\n",
       "      <td>Weekend</td>\n",
       "      <td>短裤</td>\n",
       "      <td>1</td>\n",
       "      <td>33.0</td>\n",
       "      <td>1</td>\n",
       "      <td>1</td>\n",
       "      <td>19</td>\n",
       "      <td>33</td>\n",
       "      <td>14</td>\n",
       "    </tr>\n",
       "    <tr>\n",
       "      <td>7</td>\n",
       "      <td>520</td>\n",
       "      <td>杭州</td>\n",
       "      <td>线下</td>\n",
       "      <td>Male</td>\n",
       "      <td>&gt;=60</td>\n",
       "      <td>Weekend</td>\n",
       "      <td>T恤</td>\n",
       "      <td>2</td>\n",
       "      <td>158.0</td>\n",
       "      <td>2</td>\n",
       "      <td>2</td>\n",
       "      <td>49</td>\n",
       "      <td>79</td>\n",
       "      <td>60</td>\n",
       "    </tr>\n",
       "    <tr>\n",
       "      <td>8</td>\n",
       "      <td>649</td>\n",
       "      <td>杭州</td>\n",
       "      <td>线下</td>\n",
       "      <td>Female</td>\n",
       "      <td>30-34</td>\n",
       "      <td>Weekend</td>\n",
       "      <td>牛仔裤</td>\n",
       "      <td>3</td>\n",
       "      <td>157.0</td>\n",
       "      <td>3</td>\n",
       "      <td>3</td>\n",
       "      <td>69</td>\n",
       "      <td>52</td>\n",
       "      <td>-51</td>\n",
       "    </tr>\n",
       "    <tr>\n",
       "      <td>9</td>\n",
       "      <td>21</td>\n",
       "      <td>北京</td>\n",
       "      <td>线下</td>\n",
       "      <td>Female</td>\n",
       "      <td>45-49</td>\n",
       "      <td>Weekend</td>\n",
       "      <td>毛衣</td>\n",
       "      <td>1</td>\n",
       "      <td>199.0</td>\n",
       "      <td>1</td>\n",
       "      <td>1</td>\n",
       "      <td>99</td>\n",
       "      <td>199</td>\n",
       "      <td>100</td>\n",
       "    </tr>\n",
       "  </tbody>\n",
       "</table>\n",
       "</div>"
      ],
      "text/plain": [
       "   store_id city channel gender_group age_group  wkd_ind product  customer  \\\n",
       "0       658   深圳      线下       Female     25-29  Weekday    当季新品         4   \n",
       "1       146   杭州      线下       Female     25-29  Weekday      运动         1   \n",
       "2        70   深圳      线下         Male      >=60  Weekday      T恤         2   \n",
       "3       658   深圳      线下       Female     25-29  Weekday      T恤         1   \n",
       "4       229   深圳      线下         Male     20-24  Weekend      袜子         2   \n",
       "5        28   武汉      线上       Female     35-39  Weekend      T恤         1   \n",
       "6       649   杭州      线下       Female     25-29  Weekend      短裤         1   \n",
       "7       520   杭州      线下         Male      >=60  Weekend      T恤         2   \n",
       "8       649   杭州      线下       Female     30-34  Weekend     牛仔裤         3   \n",
       "9        21   北京      线下       Female     45-49  Weekend      毛衣         1   \n",
       "\n",
       "   revenue  order  quant  unit_cost  unit_price  profit  \n",
       "0    796.0      4      4         59         199     560  \n",
       "1    149.0      1      1         49         149     100  \n",
       "2    178.0      2      2         49          89      80  \n",
       "3     59.0      1      1         49          59      10  \n",
       "4     65.0      2      3          9          22      39  \n",
       "5     97.0      1      1         49          97      48  \n",
       "6     33.0      1      1         19          33      14  \n",
       "7    158.0      2      2         49          79      60  \n",
       "8    157.0      3      3         69          52     -51  \n",
       "9    199.0      1      1         99         199     100  "
      ]
     },
     "execution_count": 5,
     "metadata": {},
     "output_type": "execute_result"
    }
   ],
   "source": [
    "uni.head(10)"
   ]
  },
  {
   "cell_type": "markdown",
   "metadata": {},
   "source": [
    "# EDA"
   ]
  },
  {
   "cell_type": "code",
   "execution_count": 6,
   "metadata": {},
   "outputs": [
    {
     "name": "stdout",
     "output_type": "stream",
     "text": [
      "<class 'pandas.core.frame.DataFrame'>\n",
      "RangeIndex: 22293 entries, 0 to 22292\n",
      "Data columns (total 14 columns):\n",
      "store_id        22293 non-null int64\n",
      "city            22293 non-null object\n",
      "channel         22293 non-null object\n",
      "gender_group    22293 non-null object\n",
      "age_group       22293 non-null object\n",
      "wkd_ind         22293 non-null object\n",
      "product         22293 non-null object\n",
      "customer        22293 non-null int64\n",
      "revenue         22293 non-null float64\n",
      "order           22293 non-null int64\n",
      "quant           22293 non-null int64\n",
      "unit_cost       22293 non-null int64\n",
      "unit_price      22293 non-null int64\n",
      "profit          22293 non-null int64\n",
      "dtypes: float64(1), int64(7), object(6)\n",
      "memory usage: 2.4+ MB\n"
     ]
    }
   ],
   "source": [
    "uni.info()"
   ]
  },
  {
   "cell_type": "code",
   "execution_count": 8,
   "metadata": {},
   "outputs": [],
   "source": [
    "uni_clean=uni.copy()"
   ]
  },
  {
   "cell_type": "code",
   "execution_count": 9,
   "metadata": {},
   "outputs": [],
   "source": [
    "# change store_id to string\n",
    "uni_clean['store_id'] = uni_clean['store_id'].apply(str)"
   ]
  },
  {
   "cell_type": "code",
   "execution_count": 10,
   "metadata": {},
   "outputs": [
    {
     "name": "stdout",
     "output_type": "stream",
     "text": [
      "<class 'pandas.core.frame.DataFrame'>\n",
      "RangeIndex: 22293 entries, 0 to 22292\n",
      "Data columns (total 14 columns):\n",
      "store_id        22293 non-null object\n",
      "city            22293 non-null object\n",
      "channel         22293 non-null object\n",
      "gender_group    22293 non-null object\n",
      "age_group       22293 non-null object\n",
      "wkd_ind         22293 non-null object\n",
      "product         22293 non-null object\n",
      "customer        22293 non-null int64\n",
      "revenue         22293 non-null float64\n",
      "order           22293 non-null int64\n",
      "quant           22293 non-null int64\n",
      "unit_cost       22293 non-null int64\n",
      "unit_price      22293 non-null int64\n",
      "profit          22293 non-null int64\n",
      "dtypes: float64(1), int64(6), object(7)\n",
      "memory usage: 2.4+ MB\n"
     ]
    }
   ],
   "source": [
    "uni_clean.info()"
   ]
  },
  {
   "cell_type": "code",
   "execution_count": 14,
   "metadata": {},
   "outputs": [
    {
     "data": {
      "text/html": [
       "<div>\n",
       "<style scoped>\n",
       "    .dataframe tbody tr th:only-of-type {\n",
       "        vertical-align: middle;\n",
       "    }\n",
       "\n",
       "    .dataframe tbody tr th {\n",
       "        vertical-align: top;\n",
       "    }\n",
       "\n",
       "    .dataframe thead th {\n",
       "        text-align: right;\n",
       "    }\n",
       "</style>\n",
       "<table border=\"1\" class=\"dataframe\">\n",
       "  <thead>\n",
       "    <tr style=\"text-align: right;\">\n",
       "      <th></th>\n",
       "      <th>store_id</th>\n",
       "      <th>city</th>\n",
       "      <th>channel</th>\n",
       "      <th>gender_group</th>\n",
       "      <th>age_group</th>\n",
       "      <th>wkd_ind</th>\n",
       "      <th>product</th>\n",
       "      <th>customer</th>\n",
       "      <th>revenue</th>\n",
       "      <th>order</th>\n",
       "      <th>quant</th>\n",
       "      <th>unit_cost</th>\n",
       "      <th>unit_price</th>\n",
       "      <th>profit</th>\n",
       "      <th>uni_quant_of_order</th>\n",
       "      <th>uni_revenue_of_customer</th>\n",
       "    </tr>\n",
       "  </thead>\n",
       "  <tbody>\n",
       "    <tr>\n",
       "      <td>count</td>\n",
       "      <td>22293</td>\n",
       "      <td>22293</td>\n",
       "      <td>22293</td>\n",
       "      <td>22293</td>\n",
       "      <td>22293</td>\n",
       "      <td>22293</td>\n",
       "      <td>22293</td>\n",
       "      <td>22293.000000</td>\n",
       "      <td>22293.000000</td>\n",
       "      <td>22293.000000</td>\n",
       "      <td>22293.000000</td>\n",
       "      <td>22293.000000</td>\n",
       "      <td>22293.000000</td>\n",
       "      <td>22293.000000</td>\n",
       "      <td>22293.000000</td>\n",
       "      <td>22293.000000</td>\n",
       "    </tr>\n",
       "    <tr>\n",
       "      <td>unique</td>\n",
       "      <td>64</td>\n",
       "      <td>10</td>\n",
       "      <td>2</td>\n",
       "      <td>3</td>\n",
       "      <td>11</td>\n",
       "      <td>2</td>\n",
       "      <td>9</td>\n",
       "      <td>NaN</td>\n",
       "      <td>NaN</td>\n",
       "      <td>NaN</td>\n",
       "      <td>NaN</td>\n",
       "      <td>NaN</td>\n",
       "      <td>NaN</td>\n",
       "      <td>NaN</td>\n",
       "      <td>NaN</td>\n",
       "      <td>NaN</td>\n",
       "    </tr>\n",
       "    <tr>\n",
       "      <td>top</td>\n",
       "      <td>207</td>\n",
       "      <td>深圳</td>\n",
       "      <td>线下</td>\n",
       "      <td>Female</td>\n",
       "      <td>30-34</td>\n",
       "      <td>Weekday</td>\n",
       "      <td>T恤</td>\n",
       "      <td>NaN</td>\n",
       "      <td>NaN</td>\n",
       "      <td>NaN</td>\n",
       "      <td>NaN</td>\n",
       "      <td>NaN</td>\n",
       "      <td>NaN</td>\n",
       "      <td>NaN</td>\n",
       "      <td>NaN</td>\n",
       "      <td>NaN</td>\n",
       "    </tr>\n",
       "    <tr>\n",
       "      <td>freq</td>\n",
       "      <td>610</td>\n",
       "      <td>4364</td>\n",
       "      <td>18403</td>\n",
       "      <td>14208</td>\n",
       "      <td>4426</td>\n",
       "      <td>12465</td>\n",
       "      <td>10610</td>\n",
       "      <td>NaN</td>\n",
       "      <td>NaN</td>\n",
       "      <td>NaN</td>\n",
       "      <td>NaN</td>\n",
       "      <td>NaN</td>\n",
       "      <td>NaN</td>\n",
       "      <td>NaN</td>\n",
       "      <td>NaN</td>\n",
       "      <td>NaN</td>\n",
       "    </tr>\n",
       "    <tr>\n",
       "      <td>mean</td>\n",
       "      <td>NaN</td>\n",
       "      <td>NaN</td>\n",
       "      <td>NaN</td>\n",
       "      <td>NaN</td>\n",
       "      <td>NaN</td>\n",
       "      <td>NaN</td>\n",
       "      <td>NaN</td>\n",
       "      <td>1.629480</td>\n",
       "      <td>159.531371</td>\n",
       "      <td>1.651998</td>\n",
       "      <td>1.858072</td>\n",
       "      <td>46.124658</td>\n",
       "      <td>84.279998</td>\n",
       "      <td>74.935989</td>\n",
       "      <td>1.114494</td>\n",
       "      <td>93.250375</td>\n",
       "    </tr>\n",
       "    <tr>\n",
       "      <td>std</td>\n",
       "      <td>NaN</td>\n",
       "      <td>NaN</td>\n",
       "      <td>NaN</td>\n",
       "      <td>NaN</td>\n",
       "      <td>NaN</td>\n",
       "      <td>NaN</td>\n",
       "      <td>NaN</td>\n",
       "      <td>1.785605</td>\n",
       "      <td>276.254066</td>\n",
       "      <td>1.861480</td>\n",
       "      <td>2.347301</td>\n",
       "      <td>19.124347</td>\n",
       "      <td>46.314296</td>\n",
       "      <td>179.894501</td>\n",
       "      <td>0.443998</td>\n",
       "      <td>76.634966</td>\n",
       "    </tr>\n",
       "    <tr>\n",
       "      <td>min</td>\n",
       "      <td>NaN</td>\n",
       "      <td>NaN</td>\n",
       "      <td>NaN</td>\n",
       "      <td>NaN</td>\n",
       "      <td>NaN</td>\n",
       "      <td>NaN</td>\n",
       "      <td>NaN</td>\n",
       "      <td>1.000000</td>\n",
       "      <td>-0.660000</td>\n",
       "      <td>1.000000</td>\n",
       "      <td>1.000000</td>\n",
       "      <td>9.000000</td>\n",
       "      <td>0.000000</td>\n",
       "      <td>-650.000000</td>\n",
       "      <td>1.000000</td>\n",
       "      <td>-0.660000</td>\n",
       "    </tr>\n",
       "    <tr>\n",
       "      <td>25%</td>\n",
       "      <td>NaN</td>\n",
       "      <td>NaN</td>\n",
       "      <td>NaN</td>\n",
       "      <td>NaN</td>\n",
       "      <td>NaN</td>\n",
       "      <td>NaN</td>\n",
       "      <td>NaN</td>\n",
       "      <td>1.000000</td>\n",
       "      <td>64.000000</td>\n",
       "      <td>1.000000</td>\n",
       "      <td>1.000000</td>\n",
       "      <td>49.000000</td>\n",
       "      <td>56.000000</td>\n",
       "      <td>18.000000</td>\n",
       "      <td>1.000000</td>\n",
       "      <td>59.000000</td>\n",
       "    </tr>\n",
       "    <tr>\n",
       "      <td>50%</td>\n",
       "      <td>NaN</td>\n",
       "      <td>NaN</td>\n",
       "      <td>NaN</td>\n",
       "      <td>NaN</td>\n",
       "      <td>NaN</td>\n",
       "      <td>NaN</td>\n",
       "      <td>NaN</td>\n",
       "      <td>1.000000</td>\n",
       "      <td>99.000000</td>\n",
       "      <td>1.000000</td>\n",
       "      <td>1.000000</td>\n",
       "      <td>49.000000</td>\n",
       "      <td>79.000000</td>\n",
       "      <td>42.000000</td>\n",
       "      <td>1.000000</td>\n",
       "      <td>79.000000</td>\n",
       "    </tr>\n",
       "    <tr>\n",
       "      <td>75%</td>\n",
       "      <td>NaN</td>\n",
       "      <td>NaN</td>\n",
       "      <td>NaN</td>\n",
       "      <td>NaN</td>\n",
       "      <td>NaN</td>\n",
       "      <td>NaN</td>\n",
       "      <td>NaN</td>\n",
       "      <td>2.000000</td>\n",
       "      <td>175.000000</td>\n",
       "      <td>2.000000</td>\n",
       "      <td>2.000000</td>\n",
       "      <td>49.000000</td>\n",
       "      <td>99.000000</td>\n",
       "      <td>87.000000</td>\n",
       "      <td>1.000000</td>\n",
       "      <td>99.000000</td>\n",
       "    </tr>\n",
       "    <tr>\n",
       "      <td>max</td>\n",
       "      <td>NaN</td>\n",
       "      <td>NaN</td>\n",
       "      <td>NaN</td>\n",
       "      <td>NaN</td>\n",
       "      <td>NaN</td>\n",
       "      <td>NaN</td>\n",
       "      <td>NaN</td>\n",
       "      <td>58.000000</td>\n",
       "      <td>12538.000000</td>\n",
       "      <td>65.000000</td>\n",
       "      <td>84.000000</td>\n",
       "      <td>99.000000</td>\n",
       "      <td>299.000000</td>\n",
       "      <td>8400.000000</td>\n",
       "      <td>22.000000</td>\n",
       "      <td>6636.000000</td>\n",
       "    </tr>\n",
       "  </tbody>\n",
       "</table>\n",
       "</div>"
      ],
      "text/plain": [
       "       store_id   city channel gender_group age_group  wkd_ind product  \\\n",
       "count     22293  22293   22293        22293     22293    22293   22293   \n",
       "unique       64     10       2            3        11        2       9   \n",
       "top         207     深圳      线下       Female     30-34  Weekday      T恤   \n",
       "freq        610   4364   18403        14208      4426    12465   10610   \n",
       "mean        NaN    NaN     NaN          NaN       NaN      NaN     NaN   \n",
       "std         NaN    NaN     NaN          NaN       NaN      NaN     NaN   \n",
       "min         NaN    NaN     NaN          NaN       NaN      NaN     NaN   \n",
       "25%         NaN    NaN     NaN          NaN       NaN      NaN     NaN   \n",
       "50%         NaN    NaN     NaN          NaN       NaN      NaN     NaN   \n",
       "75%         NaN    NaN     NaN          NaN       NaN      NaN     NaN   \n",
       "max         NaN    NaN     NaN          NaN       NaN      NaN     NaN   \n",
       "\n",
       "            customer       revenue         order         quant     unit_cost  \\\n",
       "count   22293.000000  22293.000000  22293.000000  22293.000000  22293.000000   \n",
       "unique           NaN           NaN           NaN           NaN           NaN   \n",
       "top              NaN           NaN           NaN           NaN           NaN   \n",
       "freq             NaN           NaN           NaN           NaN           NaN   \n",
       "mean        1.629480    159.531371      1.651998      1.858072     46.124658   \n",
       "std         1.785605    276.254066      1.861480      2.347301     19.124347   \n",
       "min         1.000000     -0.660000      1.000000      1.000000      9.000000   \n",
       "25%         1.000000     64.000000      1.000000      1.000000     49.000000   \n",
       "50%         1.000000     99.000000      1.000000      1.000000     49.000000   \n",
       "75%         2.000000    175.000000      2.000000      2.000000     49.000000   \n",
       "max        58.000000  12538.000000     65.000000     84.000000     99.000000   \n",
       "\n",
       "          unit_price        profit  uni_quant_of_order  \\\n",
       "count   22293.000000  22293.000000        22293.000000   \n",
       "unique           NaN           NaN                 NaN   \n",
       "top              NaN           NaN                 NaN   \n",
       "freq             NaN           NaN                 NaN   \n",
       "mean       84.279998     74.935989            1.114494   \n",
       "std        46.314296    179.894501            0.443998   \n",
       "min         0.000000   -650.000000            1.000000   \n",
       "25%        56.000000     18.000000            1.000000   \n",
       "50%        79.000000     42.000000            1.000000   \n",
       "75%        99.000000     87.000000            1.000000   \n",
       "max       299.000000   8400.000000           22.000000   \n",
       "\n",
       "        uni_revenue_of_customer  \n",
       "count              22293.000000  \n",
       "unique                      NaN  \n",
       "top                         NaN  \n",
       "freq                        NaN  \n",
       "mean                  93.250375  \n",
       "std                   76.634966  \n",
       "min                   -0.660000  \n",
       "25%                   59.000000  \n",
       "50%                   79.000000  \n",
       "75%                   99.000000  \n",
       "max                 6636.000000  "
      ]
     },
     "execution_count": 14,
     "metadata": {},
     "output_type": "execute_result"
    }
   ],
   "source": [
    "uni_clean.describe(include=\"all\")"
   ]
  },
  {
   "cell_type": "code",
   "execution_count": 15,
   "metadata": {},
   "outputs": [],
   "source": [
    "#drop records with revenue <0\n",
    "drop_idx = uni_clean[uni_clean['revenue']<0].index\n",
    "uni_clean = uni_clean.drop(drop_idx)"
   ]
  },
  {
   "cell_type": "code",
   "execution_count": 16,
   "metadata": {},
   "outputs": [
    {
     "data": {
      "text/html": [
       "<div>\n",
       "<style scoped>\n",
       "    .dataframe tbody tr th:only-of-type {\n",
       "        vertical-align: middle;\n",
       "    }\n",
       "\n",
       "    .dataframe tbody tr th {\n",
       "        vertical-align: top;\n",
       "    }\n",
       "\n",
       "    .dataframe thead th {\n",
       "        text-align: right;\n",
       "    }\n",
       "</style>\n",
       "<table border=\"1\" class=\"dataframe\">\n",
       "  <thead>\n",
       "    <tr style=\"text-align: right;\">\n",
       "      <th></th>\n",
       "      <th>store_id</th>\n",
       "      <th>city</th>\n",
       "      <th>channel</th>\n",
       "      <th>gender_group</th>\n",
       "      <th>age_group</th>\n",
       "      <th>wkd_ind</th>\n",
       "      <th>product</th>\n",
       "      <th>customer</th>\n",
       "      <th>revenue</th>\n",
       "      <th>order</th>\n",
       "      <th>quant</th>\n",
       "      <th>unit_cost</th>\n",
       "      <th>unit_price</th>\n",
       "      <th>profit</th>\n",
       "      <th>uni_quant_of_order</th>\n",
       "      <th>uni_revenue_of_customer</th>\n",
       "    </tr>\n",
       "  </thead>\n",
       "  <tbody>\n",
       "    <tr>\n",
       "      <td>count</td>\n",
       "      <td>22292</td>\n",
       "      <td>22292</td>\n",
       "      <td>22292</td>\n",
       "      <td>22292</td>\n",
       "      <td>22292</td>\n",
       "      <td>22292</td>\n",
       "      <td>22292</td>\n",
       "      <td>22292.000000</td>\n",
       "      <td>22292.000000</td>\n",
       "      <td>22292.000000</td>\n",
       "      <td>22292.000000</td>\n",
       "      <td>22292.000000</td>\n",
       "      <td>22292.000000</td>\n",
       "      <td>22292.000000</td>\n",
       "      <td>22292.000000</td>\n",
       "      <td>22292.000000</td>\n",
       "    </tr>\n",
       "    <tr>\n",
       "      <td>unique</td>\n",
       "      <td>64</td>\n",
       "      <td>10</td>\n",
       "      <td>2</td>\n",
       "      <td>3</td>\n",
       "      <td>11</td>\n",
       "      <td>2</td>\n",
       "      <td>9</td>\n",
       "      <td>NaN</td>\n",
       "      <td>NaN</td>\n",
       "      <td>NaN</td>\n",
       "      <td>NaN</td>\n",
       "      <td>NaN</td>\n",
       "      <td>NaN</td>\n",
       "      <td>NaN</td>\n",
       "      <td>NaN</td>\n",
       "      <td>NaN</td>\n",
       "    </tr>\n",
       "    <tr>\n",
       "      <td>top</td>\n",
       "      <td>207</td>\n",
       "      <td>深圳</td>\n",
       "      <td>线下</td>\n",
       "      <td>Female</td>\n",
       "      <td>30-34</td>\n",
       "      <td>Weekday</td>\n",
       "      <td>T恤</td>\n",
       "      <td>NaN</td>\n",
       "      <td>NaN</td>\n",
       "      <td>NaN</td>\n",
       "      <td>NaN</td>\n",
       "      <td>NaN</td>\n",
       "      <td>NaN</td>\n",
       "      <td>NaN</td>\n",
       "      <td>NaN</td>\n",
       "      <td>NaN</td>\n",
       "    </tr>\n",
       "    <tr>\n",
       "      <td>freq</td>\n",
       "      <td>610</td>\n",
       "      <td>4364</td>\n",
       "      <td>18403</td>\n",
       "      <td>14207</td>\n",
       "      <td>4426</td>\n",
       "      <td>12464</td>\n",
       "      <td>10610</td>\n",
       "      <td>NaN</td>\n",
       "      <td>NaN</td>\n",
       "      <td>NaN</td>\n",
       "      <td>NaN</td>\n",
       "      <td>NaN</td>\n",
       "      <td>NaN</td>\n",
       "      <td>NaN</td>\n",
       "      <td>NaN</td>\n",
       "      <td>NaN</td>\n",
       "    </tr>\n",
       "    <tr>\n",
       "      <td>mean</td>\n",
       "      <td>NaN</td>\n",
       "      <td>NaN</td>\n",
       "      <td>NaN</td>\n",
       "      <td>NaN</td>\n",
       "      <td>NaN</td>\n",
       "      <td>NaN</td>\n",
       "      <td>NaN</td>\n",
       "      <td>1.629508</td>\n",
       "      <td>159.538557</td>\n",
       "      <td>1.652028</td>\n",
       "      <td>1.858066</td>\n",
       "      <td>46.124529</td>\n",
       "      <td>84.283779</td>\n",
       "      <td>74.943747</td>\n",
       "      <td>1.114455</td>\n",
       "      <td>93.254588</td>\n",
       "    </tr>\n",
       "    <tr>\n",
       "      <td>std</td>\n",
       "      <td>NaN</td>\n",
       "      <td>NaN</td>\n",
       "      <td>NaN</td>\n",
       "      <td>NaN</td>\n",
       "      <td>NaN</td>\n",
       "      <td>NaN</td>\n",
       "      <td>NaN</td>\n",
       "      <td>1.785640</td>\n",
       "      <td>276.258179</td>\n",
       "      <td>1.861517</td>\n",
       "      <td>2.347353</td>\n",
       "      <td>19.124766</td>\n",
       "      <td>46.311894</td>\n",
       "      <td>179.894807</td>\n",
       "      <td>0.443968</td>\n",
       "      <td>76.634104</td>\n",
       "    </tr>\n",
       "    <tr>\n",
       "      <td>min</td>\n",
       "      <td>NaN</td>\n",
       "      <td>NaN</td>\n",
       "      <td>NaN</td>\n",
       "      <td>NaN</td>\n",
       "      <td>NaN</td>\n",
       "      <td>NaN</td>\n",
       "      <td>NaN</td>\n",
       "      <td>1.000000</td>\n",
       "      <td>0.000000</td>\n",
       "      <td>1.000000</td>\n",
       "      <td>1.000000</td>\n",
       "      <td>9.000000</td>\n",
       "      <td>0.000000</td>\n",
       "      <td>-650.000000</td>\n",
       "      <td>1.000000</td>\n",
       "      <td>0.000000</td>\n",
       "    </tr>\n",
       "    <tr>\n",
       "      <td>25%</td>\n",
       "      <td>NaN</td>\n",
       "      <td>NaN</td>\n",
       "      <td>NaN</td>\n",
       "      <td>NaN</td>\n",
       "      <td>NaN</td>\n",
       "      <td>NaN</td>\n",
       "      <td>NaN</td>\n",
       "      <td>1.000000</td>\n",
       "      <td>64.000000</td>\n",
       "      <td>1.000000</td>\n",
       "      <td>1.000000</td>\n",
       "      <td>49.000000</td>\n",
       "      <td>56.000000</td>\n",
       "      <td>18.000000</td>\n",
       "      <td>1.000000</td>\n",
       "      <td>59.000000</td>\n",
       "    </tr>\n",
       "    <tr>\n",
       "      <td>50%</td>\n",
       "      <td>NaN</td>\n",
       "      <td>NaN</td>\n",
       "      <td>NaN</td>\n",
       "      <td>NaN</td>\n",
       "      <td>NaN</td>\n",
       "      <td>NaN</td>\n",
       "      <td>NaN</td>\n",
       "      <td>1.000000</td>\n",
       "      <td>99.000000</td>\n",
       "      <td>1.000000</td>\n",
       "      <td>1.000000</td>\n",
       "      <td>49.000000</td>\n",
       "      <td>79.000000</td>\n",
       "      <td>42.000000</td>\n",
       "      <td>1.000000</td>\n",
       "      <td>79.000000</td>\n",
       "    </tr>\n",
       "    <tr>\n",
       "      <td>75%</td>\n",
       "      <td>NaN</td>\n",
       "      <td>NaN</td>\n",
       "      <td>NaN</td>\n",
       "      <td>NaN</td>\n",
       "      <td>NaN</td>\n",
       "      <td>NaN</td>\n",
       "      <td>NaN</td>\n",
       "      <td>2.000000</td>\n",
       "      <td>175.000000</td>\n",
       "      <td>2.000000</td>\n",
       "      <td>2.000000</td>\n",
       "      <td>49.000000</td>\n",
       "      <td>99.000000</td>\n",
       "      <td>87.000000</td>\n",
       "      <td>1.000000</td>\n",
       "      <td>99.000000</td>\n",
       "    </tr>\n",
       "    <tr>\n",
       "      <td>max</td>\n",
       "      <td>NaN</td>\n",
       "      <td>NaN</td>\n",
       "      <td>NaN</td>\n",
       "      <td>NaN</td>\n",
       "      <td>NaN</td>\n",
       "      <td>NaN</td>\n",
       "      <td>NaN</td>\n",
       "      <td>58.000000</td>\n",
       "      <td>12538.000000</td>\n",
       "      <td>65.000000</td>\n",
       "      <td>84.000000</td>\n",
       "      <td>99.000000</td>\n",
       "      <td>299.000000</td>\n",
       "      <td>8400.000000</td>\n",
       "      <td>22.000000</td>\n",
       "      <td>6636.000000</td>\n",
       "    </tr>\n",
       "  </tbody>\n",
       "</table>\n",
       "</div>"
      ],
      "text/plain": [
       "       store_id   city channel gender_group age_group  wkd_ind product  \\\n",
       "count     22292  22292   22292        22292     22292    22292   22292   \n",
       "unique       64     10       2            3        11        2       9   \n",
       "top         207     深圳      线下       Female     30-34  Weekday      T恤   \n",
       "freq        610   4364   18403        14207      4426    12464   10610   \n",
       "mean        NaN    NaN     NaN          NaN       NaN      NaN     NaN   \n",
       "std         NaN    NaN     NaN          NaN       NaN      NaN     NaN   \n",
       "min         NaN    NaN     NaN          NaN       NaN      NaN     NaN   \n",
       "25%         NaN    NaN     NaN          NaN       NaN      NaN     NaN   \n",
       "50%         NaN    NaN     NaN          NaN       NaN      NaN     NaN   \n",
       "75%         NaN    NaN     NaN          NaN       NaN      NaN     NaN   \n",
       "max         NaN    NaN     NaN          NaN       NaN      NaN     NaN   \n",
       "\n",
       "            customer       revenue         order         quant     unit_cost  \\\n",
       "count   22292.000000  22292.000000  22292.000000  22292.000000  22292.000000   \n",
       "unique           NaN           NaN           NaN           NaN           NaN   \n",
       "top              NaN           NaN           NaN           NaN           NaN   \n",
       "freq             NaN           NaN           NaN           NaN           NaN   \n",
       "mean        1.629508    159.538557      1.652028      1.858066     46.124529   \n",
       "std         1.785640    276.258179      1.861517      2.347353     19.124766   \n",
       "min         1.000000      0.000000      1.000000      1.000000      9.000000   \n",
       "25%         1.000000     64.000000      1.000000      1.000000     49.000000   \n",
       "50%         1.000000     99.000000      1.000000      1.000000     49.000000   \n",
       "75%         2.000000    175.000000      2.000000      2.000000     49.000000   \n",
       "max        58.000000  12538.000000     65.000000     84.000000     99.000000   \n",
       "\n",
       "          unit_price        profit  uni_quant_of_order  \\\n",
       "count   22292.000000  22292.000000        22292.000000   \n",
       "unique           NaN           NaN                 NaN   \n",
       "top              NaN           NaN                 NaN   \n",
       "freq             NaN           NaN                 NaN   \n",
       "mean       84.283779     74.943747            1.114455   \n",
       "std        46.311894    179.894807            0.443968   \n",
       "min         0.000000   -650.000000            1.000000   \n",
       "25%        56.000000     18.000000            1.000000   \n",
       "50%        79.000000     42.000000            1.000000   \n",
       "75%        99.000000     87.000000            1.000000   \n",
       "max       299.000000   8400.000000           22.000000   \n",
       "\n",
       "        uni_revenue_of_customer  \n",
       "count              22292.000000  \n",
       "unique                      NaN  \n",
       "top                         NaN  \n",
       "freq                        NaN  \n",
       "mean                  93.254588  \n",
       "std                   76.634104  \n",
       "min                    0.000000  \n",
       "25%                   59.000000  \n",
       "50%                   79.000000  \n",
       "75%                   99.000000  \n",
       "max                 6636.000000  "
      ]
     },
     "execution_count": 16,
     "metadata": {},
     "output_type": "execute_result"
    }
   ],
   "source": [
    "uni_clean.describe(include='all')"
   ]
  },
  {
   "cell_type": "markdown",
   "metadata": {},
   "source": [
    "# 问题一：整体销售情况随着时间的变化是怎样的？\n",
    "· 选择什么变量？\n",
    "    \n",
    "    wkd_ind, revenue, profit, uni_quant_of_order, uni_revenue_of_customer\n",
    "    channel, gender_group\n",
    "\n",
    "· 呈现怎样的数据关系？\n",
    "    \n",
    "    比较周中/周末不同的销售情况。从渠道、性别、销售额、利润、顾客数量、单笔订单产品数量及人均消费额等维度分析\n",
    "\n",
    "· 选择怎样的图表？\n",
    "    \n",
    "    柱状图\n"
   ]
  },
  {
   "cell_type": "markdown",
   "metadata": {},
   "source": [
    "# A. 不同渠道周中/周末的销售额，利润，单笔订单产品数量，人均消费额分析 "
   ]
  },
  {
   "cell_type": "code",
   "execution_count": 17,
   "metadata": {},
   "outputs": [],
   "source": [
    "#加一列单笔订单产品数量, 人均消费额\n",
    "uni_clean['uni_quant_of_order'] = uni_clean['quant']/uni_clean['order']\n",
    "uni_clean['uni_revenue_of_customer'] = uni_clean['revenue']/uni_clean['customer']"
   ]
  },
  {
   "cell_type": "code",
   "execution_count": 21,
   "metadata": {},
   "outputs": [
    {
     "data": {
      "text/html": [
       "<div>\n",
       "<style scoped>\n",
       "    .dataframe tbody tr th:only-of-type {\n",
       "        vertical-align: middle;\n",
       "    }\n",
       "\n",
       "    .dataframe tbody tr th {\n",
       "        vertical-align: top;\n",
       "    }\n",
       "\n",
       "    .dataframe thead th {\n",
       "        text-align: right;\n",
       "    }\n",
       "</style>\n",
       "<table border=\"1\" class=\"dataframe\">\n",
       "  <thead>\n",
       "    <tr style=\"text-align: right;\">\n",
       "      <th></th>\n",
       "      <th>channel</th>\n",
       "      <th>wkd_ind</th>\n",
       "      <th>revenue</th>\n",
       "      <th>profit</th>\n",
       "      <th>uni_quant_of_order</th>\n",
       "      <th>uni_revenue_of_customer</th>\n",
       "    </tr>\n",
       "  </thead>\n",
       "  <tbody>\n",
       "    <tr>\n",
       "      <td>0</td>\n",
       "      <td>线上</td>\n",
       "      <td>Weekday</td>\n",
       "      <td>395302.56</td>\n",
       "      <td>189110</td>\n",
       "      <td>1.108044</td>\n",
       "      <td>92.739192</td>\n",
       "    </tr>\n",
       "    <tr>\n",
       "      <td>1</td>\n",
       "      <td>线上</td>\n",
       "      <td>Weekend</td>\n",
       "      <td>257868.58</td>\n",
       "      <td>127754</td>\n",
       "      <td>1.109055</td>\n",
       "      <td>93.502841</td>\n",
       "    </tr>\n",
       "    <tr>\n",
       "      <td>2</td>\n",
       "      <td>线下</td>\n",
       "      <td>Weekday</td>\n",
       "      <td>1698646.08</td>\n",
       "      <td>786041</td>\n",
       "      <td>1.122747</td>\n",
       "      <td>93.686322</td>\n",
       "    </tr>\n",
       "    <tr>\n",
       "      <td>3</td>\n",
       "      <td>线下</td>\n",
       "      <td>Weekend</td>\n",
       "      <td>1204616.29</td>\n",
       "      <td>567741</td>\n",
       "      <td>1.106883</td>\n",
       "      <td>92.801170</td>\n",
       "    </tr>\n",
       "  </tbody>\n",
       "</table>\n",
       "</div>"
      ],
      "text/plain": [
       "  channel  wkd_ind     revenue  profit  uni_quant_of_order  \\\n",
       "0      线上  Weekday   395302.56  189110            1.108044   \n",
       "1      线上  Weekend   257868.58  127754            1.109055   \n",
       "2      线下  Weekday  1698646.08  786041            1.122747   \n",
       "3      线下  Weekend  1204616.29  567741            1.106883   \n",
       "\n",
       "   uni_revenue_of_customer  \n",
       "0                92.739192  \n",
       "1                93.502841  \n",
       "2                93.686322  \n",
       "3                92.801170  "
      ]
     },
     "execution_count": 21,
     "metadata": {},
     "output_type": "execute_result"
    }
   ],
   "source": [
    "#用groupby分析不同渠道周中/周末的销售额，利润，单笔订单产品数量, 人均消费额\n",
    "uni_wkd=uni_clean.groupby(['channel','wkd_ind']).agg({'revenue':np.sum, 'profit': np.sum, 'uni_quant_of_order':np.mean, 'uni_revenue_of_customer':np.mean}).reset_index()\n",
    "uni_wkd"
   ]
  },
  {
   "cell_type": "markdown",
   "metadata": {},
   "source": [
    "Weekday 有五天，Weekend只有两天，不能直接比较销售额和利润，故加一列日均销售额和一列日均利润\n"
   ]
  },
  {
   "cell_type": "markdown",
   "metadata": {},
   "source": [
    "# Question: Why this is wrong? -- Solved\n",
    "uni_wkd['revenue_per_day'] = uni_wkd['wkd_ind'].apply(lambda x: uni_wkd['revenue']/5 if x=='Weekday' else uni_wkd['revenue']/2)"
   ]
  },
  {
   "cell_type": "code",
   "execution_count": 25,
   "metadata": {
    "scrolled": true
   },
   "outputs": [
    {
     "data": {
      "text/html": [
       "<div>\n",
       "<style scoped>\n",
       "    .dataframe tbody tr th:only-of-type {\n",
       "        vertical-align: middle;\n",
       "    }\n",
       "\n",
       "    .dataframe tbody tr th {\n",
       "        vertical-align: top;\n",
       "    }\n",
       "\n",
       "    .dataframe thead th {\n",
       "        text-align: right;\n",
       "    }\n",
       "</style>\n",
       "<table border=\"1\" class=\"dataframe\">\n",
       "  <thead>\n",
       "    <tr style=\"text-align: right;\">\n",
       "      <th></th>\n",
       "      <th>channel</th>\n",
       "      <th>wkd_ind</th>\n",
       "      <th>revenue</th>\n",
       "      <th>profit</th>\n",
       "      <th>uni_quant_of_order</th>\n",
       "      <th>uni_revenue_of_customer</th>\n",
       "      <th>revenue_per_day</th>\n",
       "      <th>profit_per_day</th>\n",
       "    </tr>\n",
       "  </thead>\n",
       "  <tbody>\n",
       "    <tr>\n",
       "      <td>0</td>\n",
       "      <td>线上</td>\n",
       "      <td>Weekday</td>\n",
       "      <td>395302.56</td>\n",
       "      <td>189110</td>\n",
       "      <td>1.108044</td>\n",
       "      <td>92.739192</td>\n",
       "      <td>79060.512</td>\n",
       "      <td>37822.0</td>\n",
       "    </tr>\n",
       "    <tr>\n",
       "      <td>1</td>\n",
       "      <td>线上</td>\n",
       "      <td>Weekend</td>\n",
       "      <td>257868.58</td>\n",
       "      <td>127754</td>\n",
       "      <td>1.109055</td>\n",
       "      <td>93.502841</td>\n",
       "      <td>128934.290</td>\n",
       "      <td>63877.0</td>\n",
       "    </tr>\n",
       "    <tr>\n",
       "      <td>2</td>\n",
       "      <td>线下</td>\n",
       "      <td>Weekday</td>\n",
       "      <td>1698646.08</td>\n",
       "      <td>786041</td>\n",
       "      <td>1.122747</td>\n",
       "      <td>93.686322</td>\n",
       "      <td>339729.216</td>\n",
       "      <td>157208.2</td>\n",
       "    </tr>\n",
       "    <tr>\n",
       "      <td>3</td>\n",
       "      <td>线下</td>\n",
       "      <td>Weekend</td>\n",
       "      <td>1204616.29</td>\n",
       "      <td>567741</td>\n",
       "      <td>1.106883</td>\n",
       "      <td>92.801170</td>\n",
       "      <td>602308.145</td>\n",
       "      <td>283870.5</td>\n",
       "    </tr>\n",
       "  </tbody>\n",
       "</table>\n",
       "</div>"
      ],
      "text/plain": [
       "  channel  wkd_ind     revenue  profit  uni_quant_of_order  \\\n",
       "0      线上  Weekday   395302.56  189110            1.108044   \n",
       "1      线上  Weekend   257868.58  127754            1.109055   \n",
       "2      线下  Weekday  1698646.08  786041            1.122747   \n",
       "3      线下  Weekend  1204616.29  567741            1.106883   \n",
       "\n",
       "   uni_revenue_of_customer  revenue_per_day  profit_per_day  \n",
       "0                92.739192        79060.512         37822.0  \n",
       "1                93.502841       128934.290         63877.0  \n",
       "2                93.686322       339729.216        157208.2  \n",
       "3                92.801170       602308.145        283870.5  "
      ]
     },
     "execution_count": 25,
     "metadata": {},
     "output_type": "execute_result"
    }
   ],
   "source": [
    "#x作为变量是要参与到lambda的运算中的，此外，还需要加入axis=1\n",
    "uni_wkd['revenue_per_day'] = uni_wkd.apply(lambda x: x['revenue']/5 if x['wkd_ind']=='Weekday' else x['revenue']/2, axis=1)\n",
    "uni_wkd['profit_per_day'] = uni_wkd.apply(lambda x: x['profit']/5 if x['wkd_ind']=='Weekday' else x['profit']/2, axis=1)\n",
    "uni_wkd"
   ]
  },
  {
   "cell_type": "code",
   "execution_count": 50,
   "metadata": {},
   "outputs": [
    {
     "data": {
      "text/html": [
       "<div>\n",
       "<style scoped>\n",
       "    .dataframe tbody tr th:only-of-type {\n",
       "        vertical-align: middle;\n",
       "    }\n",
       "\n",
       "    .dataframe tbody tr th {\n",
       "        vertical-align: top;\n",
       "    }\n",
       "\n",
       "    .dataframe thead th {\n",
       "        text-align: right;\n",
       "    }\n",
       "</style>\n",
       "<table border=\"1\" class=\"dataframe\">\n",
       "  <thead>\n",
       "    <tr style=\"text-align: right;\">\n",
       "      <th></th>\n",
       "      <th>channel</th>\n",
       "      <th>wkd_ind</th>\n",
       "      <th>revenue</th>\n",
       "      <th>profit</th>\n",
       "      <th>uni_quant_of_order</th>\n",
       "      <th>uni_revenue_of_customer</th>\n",
       "      <th>revenue_per_day</th>\n",
       "      <th>profit_per_day</th>\n",
       "    </tr>\n",
       "  </thead>\n",
       "  <tbody>\n",
       "    <tr>\n",
       "      <td>0</td>\n",
       "      <td>线上</td>\n",
       "      <td>Weekday</td>\n",
       "      <td>395302.56</td>\n",
       "      <td>189110</td>\n",
       "      <td>1.108044</td>\n",
       "      <td>92.739192</td>\n",
       "      <td>79060.512</td>\n",
       "      <td>37822.0</td>\n",
       "    </tr>\n",
       "    <tr>\n",
       "      <td>1</td>\n",
       "      <td>线上</td>\n",
       "      <td>Weekend</td>\n",
       "      <td>257868.58</td>\n",
       "      <td>127754</td>\n",
       "      <td>1.109055</td>\n",
       "      <td>93.502841</td>\n",
       "      <td>128934.290</td>\n",
       "      <td>63877.0</td>\n",
       "    </tr>\n",
       "    <tr>\n",
       "      <td>2</td>\n",
       "      <td>线下</td>\n",
       "      <td>Weekday</td>\n",
       "      <td>1698646.08</td>\n",
       "      <td>786041</td>\n",
       "      <td>1.122747</td>\n",
       "      <td>93.686322</td>\n",
       "      <td>339729.216</td>\n",
       "      <td>157208.2</td>\n",
       "    </tr>\n",
       "    <tr>\n",
       "      <td>3</td>\n",
       "      <td>线下</td>\n",
       "      <td>Weekend</td>\n",
       "      <td>1204616.29</td>\n",
       "      <td>567741</td>\n",
       "      <td>1.106883</td>\n",
       "      <td>92.801170</td>\n",
       "      <td>602308.145</td>\n",
       "      <td>283870.5</td>\n",
       "    </tr>\n",
       "  </tbody>\n",
       "</table>\n",
       "</div>"
      ],
      "text/plain": [
       "  channel  wkd_ind     revenue  profit  uni_quant_of_order  \\\n",
       "0      线上  Weekday   395302.56  189110            1.108044   \n",
       "1      线上  Weekend   257868.58  127754            1.109055   \n",
       "2      线下  Weekday  1698646.08  786041            1.122747   \n",
       "3      线下  Weekend  1204616.29  567741            1.106883   \n",
       "\n",
       "   uni_revenue_of_customer  revenue_per_day  profit_per_day  \n",
       "0                92.739192        79060.512         37822.0  \n",
       "1                93.502841       128934.290         63877.0  \n",
       "2                93.686322       339729.216        157208.2  \n",
       "3                92.801170       602308.145        283870.5  "
      ]
     },
     "execution_count": 50,
     "metadata": {},
     "output_type": "execute_result"
    }
   ],
   "source": [
    "#method 2\n",
    "uni_wkd.loc[uni_wkd['wkd_ind'] =='Weekday', 'revenue_per_day'] = uni_wkd['revenue']/5\n",
    "uni_wkd.loc[uni_wkd['wkd_ind'] =='Weekend', 'revenue_per_day'] = uni_wkd['revenue']/2\n",
    "\n",
    "uni_wkd.loc[uni_wkd['wkd_ind'] =='Weekday', 'profit_per_day'] = uni_wkd['profit']/5\n",
    "uni_wkd.loc[uni_wkd['wkd_ind'] =='Weekend', 'profit_per_day'] = uni_wkd['profit']/2\n",
    "\n",
    "uni_wkd"
   ]
  },
  {
   "cell_type": "markdown",
   "metadata": {},
   "source": [
    "# 可视化"
   ]
  },
  {
   "cell_type": "code",
   "execution_count": 51,
   "metadata": {},
   "outputs": [],
   "source": [
    "#windows\n",
    "plt.rcParams['font.sans-serif'] = ['simhei']"
   ]
  },
  {
   "cell_type": "code",
   "execution_count": 57,
   "metadata": {},
   "outputs": [
    {
     "data": {
      "text/plain": [
       "<matplotlib.axes._subplots.AxesSubplot at 0x1a7865f2108>"
      ]
     },
     "execution_count": 57,
     "metadata": {},
     "output_type": "execute_result"
    },
    {
     "data": {
      "image/png": "[encoded data removed]",
      "text/plain": [
       "<Figure size 432x288 with 1 Axes>"
      ]
     },
     "metadata": {},
     "output_type": "display_data"
    }
   ],
   "source": [
    "# 不同渠道周中/周末的日均销售额对比\n",
    "sns.barplot(x = 'channel', y = 'revenue_per_day', hue = 'wkd_ind', data = uni_wkd)"
   ]
  },
  {
   "cell_type": "code",
   "execution_count": 53,
   "metadata": {},
   "outputs": [
    {
     "data": {
      "text/plain": [
       "<matplotlib.axes._subplots.AxesSubplot at 0x1a78644ec08>"
      ]
     },
     "execution_count": 53,
     "metadata": {},
     "output_type": "execute_result"
    },
    {
     "data": {
      "image/png": "[encoded data removed]",
      "text/plain": [
       "<Figure size 432x288 with 1 Axes>"
      ]
     },
     "metadata": {},
     "output_type": "display_data"
    }
   ],
   "source": [
    "# 不同渠道周中/周末的日均利润对比\n",
    "sns.barplot(x = 'channel', y = 'profit_per_day', hue = 'wkd_ind', data = uni_wkd)"
   ]
  },
  {
   "cell_type": "code",
   "execution_count": 54,
   "metadata": {},
   "outputs": [
    {
     "data": {
      "text/plain": [
       "<matplotlib.axes._subplots.AxesSubplot at 0x1a7864aa7c8>"
      ]
     },
     "execution_count": 54,
     "metadata": {},
     "output_type": "execute_result"
    },
    {
     "data": {
      "image/png": "[encoded data removed]",
      "text/plain": [
       "<Figure size 432x288 with 1 Axes>"
      ]
     },
     "metadata": {},
     "output_type": "display_data"
    }
   ],
   "source": [
    "# 不同渠道周中/周末的单笔订单产品数量对比\n",
    "sns.barplot(x = 'channel', y = 'uni_quant_of_order', hue = 'wkd_ind', data = uni_wkd)"
   ]
  },
  {
   "cell_type": "code",
   "execution_count": 55,
   "metadata": {},
   "outputs": [
    {
     "data": {
      "text/plain": [
       "<matplotlib.axes._subplots.AxesSubplot at 0x1a78542be88>"
      ]
     },
     "execution_count": 55,
     "metadata": {},
     "output_type": "execute_result"
    },
    {
     "data": {
      "image/png": "[encoded data removed]",
      "text/plain": [
       "<Figure size 432x288 with 1 Axes>"
      ]
     },
     "metadata": {},
     "output_type": "display_data"
    }
   ],
   "source": [
    "# 不同渠道周中/周末的人均消费额对比\n",
    "sns.barplot(x = 'channel', y = 'uni_revenue_of_customer', hue = 'wkd_ind', data = uni_wkd)"
   ]
  },
  {
   "cell_type": "markdown",
   "metadata": {},
   "source": [
    "# 结论：\n",
    "1. 线下日均销售额及利润远高于线上\n",
    "2. 线下：周末日均销售额和利润几乎是周中的两倍\n",
    "3. 但单笔订单产品数量和人均消费额没有太大差别 （还挺奇怪的，居然没差别，这个数据是真实数据吗？）"
   ]
  },
  {
   "cell_type": "markdown",
   "metadata": {},
   "source": [
    "# B. 不同性别周中/周末的销售额，利润，顾客数量，人均消费额分析 "
   ]
  },
  {
   "cell_type": "code",
   "execution_count": 67,
   "metadata": {},
   "outputs": [
    {
     "data": {
      "text/html": [
       "<div>\n",
       "<style scoped>\n",
       "    .dataframe tbody tr th:only-of-type {\n",
       "        vertical-align: middle;\n",
       "    }\n",
       "\n",
       "    .dataframe tbody tr th {\n",
       "        vertical-align: top;\n",
       "    }\n",
       "\n",
       "    .dataframe thead th {\n",
       "        text-align: right;\n",
       "    }\n",
       "</style>\n",
       "<table border=\"1\" class=\"dataframe\">\n",
       "  <thead>\n",
       "    <tr style=\"text-align: right;\">\n",
       "      <th></th>\n",
       "      <th>gender_group</th>\n",
       "      <th>wkd_ind</th>\n",
       "      <th>revenue</th>\n",
       "      <th>profit</th>\n",
       "      <th>customer</th>\n",
       "      <th>uni_revenue_of_customer</th>\n",
       "    </tr>\n",
       "  </thead>\n",
       "  <tbody>\n",
       "    <tr>\n",
       "      <td>0</td>\n",
       "      <td>Female</td>\n",
       "      <td>Weekday</td>\n",
       "      <td>1541781.47</td>\n",
       "      <td>725916</td>\n",
       "      <td>15278</td>\n",
       "      <td>95.322304</td>\n",
       "    </tr>\n",
       "    <tr>\n",
       "      <td>1</td>\n",
       "      <td>Female</td>\n",
       "      <td>Weekend</td>\n",
       "      <td>985978.53</td>\n",
       "      <td>474065</td>\n",
       "      <td>9884</td>\n",
       "      <td>93.745690</td>\n",
       "    </tr>\n",
       "    <tr>\n",
       "      <td>2</td>\n",
       "      <td>Male</td>\n",
       "      <td>Weekday</td>\n",
       "      <td>545806.31</td>\n",
       "      <td>246549</td>\n",
       "      <td>5961</td>\n",
       "      <td>90.266569</td>\n",
       "    </tr>\n",
       "    <tr>\n",
       "      <td>3</td>\n",
       "      <td>Male</td>\n",
       "      <td>Weekend</td>\n",
       "      <td>472764.34</td>\n",
       "      <td>219686</td>\n",
       "      <td>5077</td>\n",
       "      <td>91.730576</td>\n",
       "    </tr>\n",
       "    <tr>\n",
       "      <td>4</td>\n",
       "      <td>Unkown</td>\n",
       "      <td>Weekday</td>\n",
       "      <td>6360.86</td>\n",
       "      <td>2686</td>\n",
       "      <td>79</td>\n",
       "      <td>79.708704</td>\n",
       "    </tr>\n",
       "    <tr>\n",
       "      <td>5</td>\n",
       "      <td>Unkown</td>\n",
       "      <td>Weekend</td>\n",
       "      <td>3742.00</td>\n",
       "      <td>1744</td>\n",
       "      <td>46</td>\n",
       "      <td>81.347826</td>\n",
       "    </tr>\n",
       "  </tbody>\n",
       "</table>\n",
       "</div>"
      ],
      "text/plain": [
       "  gender_group  wkd_ind     revenue  profit  customer  uni_revenue_of_customer\n",
       "0       Female  Weekday  1541781.47  725916     15278                95.322304\n",
       "1       Female  Weekend   985978.53  474065      9884                93.745690\n",
       "2         Male  Weekday   545806.31  246549      5961                90.266569\n",
       "3         Male  Weekend   472764.34  219686      5077                91.730576\n",
       "4       Unkown  Weekday     6360.86    2686        79                79.708704\n",
       "5       Unkown  Weekend     3742.00    1744        46                81.347826"
      ]
     },
     "execution_count": 67,
     "metadata": {},
     "output_type": "execute_result"
    }
   ],
   "source": [
    "#用groupby分析不同性别周中/周末的销售额，利润，顾客数量, 人均消费额\n",
    "uni_gen=uni_clean.groupby(['gender_group','wkd_ind']).agg({'revenue':np.sum, 'profit': np.sum, 'customer':np.sum, 'uni_revenue_of_customer':np.mean}).reset_index()\n",
    "uni_gen"
   ]
  },
  {
   "cell_type": "code",
   "execution_count": 74,
   "metadata": {},
   "outputs": [
    {
     "data": {
      "text/html": [
       "<div>\n",
       "<style scoped>\n",
       "    .dataframe tbody tr th:only-of-type {\n",
       "        vertical-align: middle;\n",
       "    }\n",
       "\n",
       "    .dataframe tbody tr th {\n",
       "        vertical-align: top;\n",
       "    }\n",
       "\n",
       "    .dataframe thead th {\n",
       "        text-align: right;\n",
       "    }\n",
       "</style>\n",
       "<table border=\"1\" class=\"dataframe\">\n",
       "  <thead>\n",
       "    <tr style=\"text-align: right;\">\n",
       "      <th></th>\n",
       "      <th>gender_group</th>\n",
       "      <th>wkd_ind</th>\n",
       "      <th>revenue</th>\n",
       "      <th>profit</th>\n",
       "      <th>customer</th>\n",
       "      <th>uni_revenue_of_customer</th>\n",
       "      <th>revenue_per_day</th>\n",
       "      <th>profit_per_day</th>\n",
       "      <th>customer_per_day</th>\n",
       "    </tr>\n",
       "  </thead>\n",
       "  <tbody>\n",
       "    <tr>\n",
       "      <td>0</td>\n",
       "      <td>Female</td>\n",
       "      <td>Weekday</td>\n",
       "      <td>1541781.47</td>\n",
       "      <td>725916</td>\n",
       "      <td>15278</td>\n",
       "      <td>95.322304</td>\n",
       "      <td>308356.294</td>\n",
       "      <td>145183.2</td>\n",
       "      <td>3055.6</td>\n",
       "    </tr>\n",
       "    <tr>\n",
       "      <td>1</td>\n",
       "      <td>Female</td>\n",
       "      <td>Weekend</td>\n",
       "      <td>985978.53</td>\n",
       "      <td>474065</td>\n",
       "      <td>9884</td>\n",
       "      <td>93.745690</td>\n",
       "      <td>492989.265</td>\n",
       "      <td>237032.5</td>\n",
       "      <td>4942.0</td>\n",
       "    </tr>\n",
       "    <tr>\n",
       "      <td>2</td>\n",
       "      <td>Male</td>\n",
       "      <td>Weekday</td>\n",
       "      <td>545806.31</td>\n",
       "      <td>246549</td>\n",
       "      <td>5961</td>\n",
       "      <td>90.266569</td>\n",
       "      <td>109161.262</td>\n",
       "      <td>49309.8</td>\n",
       "      <td>1192.2</td>\n",
       "    </tr>\n",
       "    <tr>\n",
       "      <td>3</td>\n",
       "      <td>Male</td>\n",
       "      <td>Weekend</td>\n",
       "      <td>472764.34</td>\n",
       "      <td>219686</td>\n",
       "      <td>5077</td>\n",
       "      <td>91.730576</td>\n",
       "      <td>236382.170</td>\n",
       "      <td>109843.0</td>\n",
       "      <td>2538.5</td>\n",
       "    </tr>\n",
       "    <tr>\n",
       "      <td>4</td>\n",
       "      <td>Unkown</td>\n",
       "      <td>Weekday</td>\n",
       "      <td>6360.86</td>\n",
       "      <td>2686</td>\n",
       "      <td>79</td>\n",
       "      <td>79.708704</td>\n",
       "      <td>1272.172</td>\n",
       "      <td>537.2</td>\n",
       "      <td>15.8</td>\n",
       "    </tr>\n",
       "    <tr>\n",
       "      <td>5</td>\n",
       "      <td>Unkown</td>\n",
       "      <td>Weekend</td>\n",
       "      <td>3742.00</td>\n",
       "      <td>1744</td>\n",
       "      <td>46</td>\n",
       "      <td>81.347826</td>\n",
       "      <td>1871.000</td>\n",
       "      <td>872.0</td>\n",
       "      <td>23.0</td>\n",
       "    </tr>\n",
       "  </tbody>\n",
       "</table>\n",
       "</div>"
      ],
      "text/plain": [
       "  gender_group  wkd_ind     revenue  profit  customer  \\\n",
       "0       Female  Weekday  1541781.47  725916     15278   \n",
       "1       Female  Weekend   985978.53  474065      9884   \n",
       "2         Male  Weekday   545806.31  246549      5961   \n",
       "3         Male  Weekend   472764.34  219686      5077   \n",
       "4       Unkown  Weekday     6360.86    2686        79   \n",
       "5       Unkown  Weekend     3742.00    1744        46   \n",
       "\n",
       "   uni_revenue_of_customer  revenue_per_day  profit_per_day  customer_per_day  \n",
       "0                95.322304       308356.294        145183.2            3055.6  \n",
       "1                93.745690       492989.265        237032.5            4942.0  \n",
       "2                90.266569       109161.262         49309.8            1192.2  \n",
       "3                91.730576       236382.170        109843.0            2538.5  \n",
       "4                79.708704         1272.172           537.2              15.8  \n",
       "5                81.347826         1871.000           872.0              23.0  "
      ]
     },
     "execution_count": 74,
     "metadata": {},
     "output_type": "execute_result"
    }
   ],
   "source": [
    "uni_gen.loc[uni_gen['wkd_ind'] =='Weekday', 'revenue_per_day'] = uni_gen['revenue']/5\n",
    "uni_gen.loc[uni_gen['wkd_ind'] =='Weekend', 'revenue_per_day'] = uni_gen['revenue']/2\n",
    "\n",
    "uni_gen.loc[uni_gen['wkd_ind'] =='Weekday', 'profit_per_day'] = uni_gen['profit']/5\n",
    "uni_gen.loc[uni_gen['wkd_ind'] =='Weekend', 'profit_per_day'] = uni_gen['profit']/2\n",
    "\n",
    "uni_gen.loc[uni_gen['wkd_ind'] =='Weekday', 'customer_per_day'] = uni_gen['customer']/5\n",
    "uni_gen.loc[uni_gen['wkd_ind'] =='Weekend', 'customer_per_day'] = uni_gen['customer']/2\n",
    "\n",
    "uni_gen"
   ]
  },
  {
   "cell_type": "markdown",
   "metadata": {},
   "source": [
    "# 可视化"
   ]
  },
  {
   "cell_type": "code",
   "execution_count": 75,
   "metadata": {},
   "outputs": [
    {
     "data": {
      "text/plain": [
       "<matplotlib.axes._subplots.AxesSubplot at 0x1a786b01808>"
      ]
     },
     "execution_count": 75,
     "metadata": {},
     "output_type": "execute_result"
    },
    {
     "data": {
      "image/png": "[encoded data removed]",
      "text/plain": [
       "<Figure size 432x288 with 1 Axes>"
      ]
     },
     "metadata": {},
     "output_type": "display_data"
    }
   ],
   "source": [
    "# 不同性别周中/周末的日均销售额对比\n",
    "sns.barplot(x = 'gender_group', y = 'revenue_per_day', hue = 'wkd_ind', data = uni_gen)"
   ]
  },
  {
   "cell_type": "code",
   "execution_count": 76,
   "metadata": {},
   "outputs": [
    {
     "data": {
      "text/plain": [
       "<matplotlib.axes._subplots.AxesSubplot at 0x1a78678e988>"
      ]
     },
     "execution_count": 76,
     "metadata": {},
     "output_type": "execute_result"
    },
    {
     "data": {
      "image/png": "[encoded data removed]",
      "text/plain": [
       "<Figure size 432x288 with 1 Axes>"
      ]
     },
     "metadata": {},
     "output_type": "display_data"
    }
   ],
   "source": [
    "# 不同性别周中/周末的日均利润对比\n",
    "sns.barplot(x = 'gender_group', y = 'profit_per_day', hue = 'wkd_ind', data = uni_gen)"
   ]
  },
  {
   "cell_type": "code",
   "execution_count": 77,
   "metadata": {},
   "outputs": [
    {
     "data": {
      "text/plain": [
       "<matplotlib.axes._subplots.AxesSubplot at 0x1a786bb9b88>"
      ]
     },
     "execution_count": 77,
     "metadata": {},
     "output_type": "execute_result"
    },
    {
     "data": {
      "image/png": "[encoded data removed]",
      "text/plain": [
       "<Figure size 432x288 with 1 Axes>"
      ]
     },
     "metadata": {},
     "output_type": "display_data"
    }
   ],
   "source": [
    "# 不同性别周中/周末的顾客数量对比\n",
    "sns.barplot(x = 'gender_group', y = 'customer_per_day', hue = 'wkd_ind', data = uni_gen)"
   ]
  },
  {
   "cell_type": "code",
   "execution_count": 72,
   "metadata": {},
   "outputs": [
    {
     "data": {
      "text/plain": [
       "<matplotlib.axes._subplots.AxesSubplot at 0x1a7853696c8>"
      ]
     },
     "execution_count": 72,
     "metadata": {},
     "output_type": "execute_result"
    },
    {
     "data": {
      "image/png": "[encoded data removed]",
      "text/plain": [
       "<Figure size 432x288 with 1 Axes>"
      ]
     },
     "metadata": {},
     "output_type": "display_data"
    }
   ],
   "source": [
    "# 不同性别周中/周末的人均消费额对比\n",
    "sns.barplot(x = 'gender_group', y = 'uni_revenue_of_customer', hue = 'wkd_ind', data = uni_gen)"
   ]
  },
  {
   "cell_type": "markdown",
   "metadata": {},
   "source": [
    "# 结论：\n",
    "1. 女性顾客带来的日均销售额及利润远高于男性顾客\n",
    "2. 对于男性顾客：周末日均销售额和利润超过周中的两倍\n",
    "3. 不论顾客性别是男是女，周末的顾客数量都远高于周中，但人均消费额周末/周中没有太大差别\n"
   ]
  },
  {
   "cell_type": "markdown",
   "metadata": {},
   "source": [
    "# 问题二：不同产品的销售情况是怎样的？\n",
    "· 选择什么变量？\n",
    "\n",
    "    revenue, profit, quant\n",
    "    product\n",
    "\n",
    "· 呈现怎样的数据关系？\n",
    "    \n",
    "    1. 比较不同产品的销售情况。从销售额、利润、销量等维度分析。\n",
    "    2. 亏损的产品销售分析\n",
    "\n",
    "· 选择怎样的图表？\n",
    "    \n",
    "    柱状图，饼图\n"
   ]
  },
  {
   "cell_type": "markdown",
   "metadata": {},
   "source": [
    "# 1. 比较不同产品的销售情况。从销售额、利润、销量等维度分析。"
   ]
  },
  {
   "cell_type": "code",
   "execution_count": 123,
   "metadata": {},
   "outputs": [
    {
     "data": {
      "text/html": [
       "<div>\n",
       "<style scoped>\n",
       "    .dataframe tbody tr th:only-of-type {\n",
       "        vertical-align: middle;\n",
       "    }\n",
       "\n",
       "    .dataframe tbody tr th {\n",
       "        vertical-align: top;\n",
       "    }\n",
       "\n",
       "    .dataframe thead th {\n",
       "        text-align: right;\n",
       "    }\n",
       "</style>\n",
       "<table border=\"1\" class=\"dataframe\">\n",
       "  <thead>\n",
       "    <tr style=\"text-align: right;\">\n",
       "      <th></th>\n",
       "      <th>product</th>\n",
       "      <th>revenue</th>\n",
       "      <th>profit</th>\n",
       "      <th>quant</th>\n",
       "    </tr>\n",
       "  </thead>\n",
       "  <tbody>\n",
       "    <tr>\n",
       "      <td>0</td>\n",
       "      <td>T恤</td>\n",
       "      <td>1538744.84</td>\n",
       "      <td>636130</td>\n",
       "      <td>18425</td>\n",
       "    </tr>\n",
       "    <tr>\n",
       "      <td>1</td>\n",
       "      <td>当季新品</td>\n",
       "      <td>590664.88</td>\n",
       "      <td>275915</td>\n",
       "      <td>5338</td>\n",
       "    </tr>\n",
       "    <tr>\n",
       "      <td>8</td>\n",
       "      <td>配件</td>\n",
       "      <td>444685.15</td>\n",
       "      <td>310695</td>\n",
       "      <td>4622</td>\n",
       "    </tr>\n",
       "    <tr>\n",
       "      <td>3</td>\n",
       "      <td>牛仔裤</td>\n",
       "      <td>246127.48</td>\n",
       "      <td>78328</td>\n",
       "      <td>2432</td>\n",
       "    </tr>\n",
       "    <tr>\n",
       "      <td>2</td>\n",
       "      <td>毛衣</td>\n",
       "      <td>245630.80</td>\n",
       "      <td>111427</td>\n",
       "      <td>1356</td>\n",
       "    </tr>\n",
       "    <tr>\n",
       "      <td>6</td>\n",
       "      <td>裙子</td>\n",
       "      <td>137302.78</td>\n",
       "      <td>78617</td>\n",
       "      <td>995</td>\n",
       "    </tr>\n",
       "    <tr>\n",
       "      <td>5</td>\n",
       "      <td>袜子</td>\n",
       "      <td>127731.36</td>\n",
       "      <td>95154</td>\n",
       "      <td>3639</td>\n",
       "    </tr>\n",
       "    <tr>\n",
       "      <td>7</td>\n",
       "      <td>运动</td>\n",
       "      <td>118060.34</td>\n",
       "      <td>30299</td>\n",
       "      <td>1792</td>\n",
       "    </tr>\n",
       "    <tr>\n",
       "      <td>4</td>\n",
       "      <td>短裤</td>\n",
       "      <td>107485.88</td>\n",
       "      <td>54081</td>\n",
       "      <td>2821</td>\n",
       "    </tr>\n",
       "  </tbody>\n",
       "</table>\n",
       "</div>"
      ],
      "text/plain": [
       "  product     revenue  profit  quant\n",
       "0      T恤  1538744.84  636130  18425\n",
       "1    当季新品   590664.88  275915   5338\n",
       "8      配件   444685.15  310695   4622\n",
       "3     牛仔裤   246127.48   78328   2432\n",
       "2      毛衣   245630.80  111427   1356\n",
       "6      裙子   137302.78   78617    995\n",
       "5      袜子   127731.36   95154   3639\n",
       "7      运动   118060.34   30299   1792\n",
       "4      短裤   107485.88   54081   2821"
      ]
     },
     "execution_count": 123,
     "metadata": {},
     "output_type": "execute_result"
    }
   ],
   "source": [
    "uni_product=uni_clean.groupby(['product']).agg({'revenue':np.sum, 'profit': np.sum, 'quant':np.sum}).reset_index().sort_values('revenue',ascending=False)\n",
    "uni_product"
   ]
  },
  {
   "cell_type": "code",
   "execution_count": 124,
   "metadata": {},
   "outputs": [
    {
     "data": {
      "text/plain": [
       "<matplotlib.axes._subplots.AxesSubplot at 0x1a78a5cea08>"
      ]
     },
     "execution_count": 124,
     "metadata": {},
     "output_type": "execute_result"
    },
    {
     "data": {
      "image/png": "[encoded data removed]",
      "text/plain": [
       "<Figure size 432x288 with 1 Axes>"
      ]
     },
     "metadata": {},
     "output_type": "display_data"
    }
   ],
   "source": [
    "#不同产品销量分析\n",
    "result = uni_clean.groupby([\"product\"])['quant'].agg(np.sum).reset_index().sort_values('quant',ascending=False)\n",
    "sns.barplot(x = 'product', y = 'quant', data = uni_product, order=result['product'])"
   ]
  },
  {
   "cell_type": "code",
   "execution_count": 125,
   "metadata": {},
   "outputs": [
    {
     "data": {
      "image/png": "[encoded data removed]",
      "text/plain": [
       "<Figure size 432x288 with 1 Axes>"
      ]
     },
     "metadata": {},
     "output_type": "display_data"
    }
   ],
   "source": [
    "#不同产品销售额及利润分析\n",
    "# set width of bar\n",
    "barWidth = 0.25\n",
    " \n",
    "# Set position of bar on X axis\n",
    "r1 = np.arange(len(uni_product['revenue']))\n",
    "r2 = [x + barWidth for x in r1]\n",
    " \n",
    "# Make the plot\n",
    "plt.bar(r1, uni_product['revenue'], color='b', width=barWidth, edgecolor='white', label='revenue')\n",
    "plt.bar(r2, uni_product['profit'], color='r', width=barWidth, edgecolor='white', label='profit')\n",
    " \n",
    "# Add xticks on the middle of the group bars\n",
    "plt.xlabel('group', fontweight='bold')\n",
    "plt.xticks([r + barWidth for r in range(len(uni_product['revenue']))], uni_product['product'])\n",
    " \n",
    "# Create legend & Show graphic\n",
    "plt.legend()\n",
    "plt.show()\n"
   ]
  },
  {
   "cell_type": "markdown",
   "metadata": {},
   "source": [
    "# 结论：\n",
    "从销量，销售额，利润额来看，T恤的表现远超其他产品，当季新品和配件随其后。"
   ]
  },
  {
   "cell_type": "code",
   "execution_count": 120,
   "metadata": {},
   "outputs": [
    {
     "data": {
      "text/html": [
       "<div>\n",
       "<style scoped>\n",
       "    .dataframe tbody tr th:only-of-type {\n",
       "        vertical-align: middle;\n",
       "    }\n",
       "\n",
       "    .dataframe tbody tr th {\n",
       "        vertical-align: top;\n",
       "    }\n",
       "\n",
       "    .dataframe thead th {\n",
       "        text-align: right;\n",
       "    }\n",
       "</style>\n",
       "<table border=\"1\" class=\"dataframe\">\n",
       "  <thead>\n",
       "    <tr style=\"text-align: right;\">\n",
       "      <th></th>\n",
       "      <th>product</th>\n",
       "      <th>gender_group</th>\n",
       "      <th>quant</th>\n",
       "    </tr>\n",
       "  </thead>\n",
       "  <tbody>\n",
       "    <tr>\n",
       "      <td>0</td>\n",
       "      <td>T恤</td>\n",
       "      <td>Female</td>\n",
       "      <td>13109</td>\n",
       "    </tr>\n",
       "    <tr>\n",
       "      <td>1</td>\n",
       "      <td>T恤</td>\n",
       "      <td>Male</td>\n",
       "      <td>5253</td>\n",
       "    </tr>\n",
       "    <tr>\n",
       "      <td>2</td>\n",
       "      <td>T恤</td>\n",
       "      <td>Unkown</td>\n",
       "      <td>63</td>\n",
       "    </tr>\n",
       "  </tbody>\n",
       "</table>\n",
       "</div>"
      ],
      "text/plain": [
       "  product gender_group  quant\n",
       "0      T恤       Female  13109\n",
       "1      T恤         Male   5253\n",
       "2      T恤       Unkown     63"
      ]
     },
     "execution_count": 120,
     "metadata": {},
     "output_type": "execute_result"
    }
   ],
   "source": [
    "#单独取出T恤的数据\n",
    "uni_t_gender = uni_clean[uni_clean['product']=='T恤'].groupby(['product','gender_group'])['quant'].sum().reset_index()\n",
    "uni_t_gender"
   ]
  },
  {
   "cell_type": "code",
   "execution_count": 121,
   "metadata": {},
   "outputs": [
    {
     "data": {
      "image/png": "[encoded data removed]",
      "text/plain": [
       "<Figure size 432x288 with 1 Axes>"
      ]
     },
     "metadata": {},
     "output_type": "display_data"
    }
   ],
   "source": [
    "# T恤销量男女比\n",
    "colors = ['lightcoral', 'lightskyblue', 'yellowgreen']\n",
    "explode = (0.1, 0, 0)  # explode 1st slice\n",
    "\n",
    "# Plot\n",
    "plt.pie(uni_t_gender['quant'], explode=explode, labels=uni_t_gender['gender_group'], colors=colors,\n",
    "autopct='%1.1f%%', shadow=True, startangle=140)\n",
    "\n",
    "plt.axis('equal')\n",
    "plt.show()"
   ]
  },
  {
   "cell_type": "markdown",
   "metadata": {},
   "source": [
    "# 结论：\n",
    "T恤销量七成来自女性顾客。"
   ]
  },
  {
   "cell_type": "markdown",
   "metadata": {},
   "source": [
    "# 2. 亏损产品销售分析"
   ]
  },
  {
   "cell_type": "code",
   "execution_count": 183,
   "metadata": {},
   "outputs": [],
   "source": [
    "plt.rcParams['axes.unicode_minus']=False"
   ]
  },
  {
   "cell_type": "code",
   "execution_count": 195,
   "metadata": {
    "scrolled": true
   },
   "outputs": [
    {
     "data": {
      "text/plain": [
       "<matplotlib.axes._subplots.AxesSubplot at 0x1a78cc0c088>"
      ]
     },
     "execution_count": 195,
     "metadata": {},
     "output_type": "execute_result"
    },
    {
     "data": {
      "image/png": "[encoded data removed]",
      "text/plain": [
       "<Figure size 432x288 with 1 Axes>"
      ]
     },
     "metadata": {},
     "output_type": "display_data"
    }
   ],
   "source": [
    "uni_clean['uni_profit_of_product'] = uni_clean['profit']/uni_clean['quant']\n",
    "sns.distplot(uni_clean['uni_profit_of_product'], bins=20)"
   ]
  },
  {
   "cell_type": "code",
   "execution_count": 219,
   "metadata": {},
   "outputs": [
    {
     "data": {
      "text/plain": [
       "<matplotlib.axes._subplots.AxesSubplot at 0x1a793310a08>"
      ]
     },
     "execution_count": 219,
     "metadata": {},
     "output_type": "execute_result"
    },
    {
     "data": {
      "image/png": "[encoded data removed]",
      "text/plain": [
       "<Figure size 720x360 with 1 Axes>"
      ]
     },
     "metadata": {},
     "output_type": "display_data"
    }
   ],
   "source": [
    "uni_loss = uni_clean[uni_clean['uni_profit_of_product']<0]\n",
    "sort = uni_loss.groupby([\"product\"])['profit'].agg(np.sum).reset_index().sort_values('profit')\n",
    "plt.figure(figsize=(10,5))\n",
    "sns.barplot(x = 'product', y = 'profit',data = sort, order=sort['product'],palette=\"pastel\")"
   ]
  },
  {
   "cell_type": "code",
   "execution_count": 229,
   "metadata": {},
   "outputs": [
    {
     "data": {
      "text/html": [
       "<div>\n",
       "<style scoped>\n",
       "    .dataframe tbody tr th:only-of-type {\n",
       "        vertical-align: middle;\n",
       "    }\n",
       "\n",
       "    .dataframe tbody tr th {\n",
       "        vertical-align: top;\n",
       "    }\n",
       "\n",
       "    .dataframe thead th {\n",
       "        text-align: right;\n",
       "    }\n",
       "</style>\n",
       "<table border=\"1\" class=\"dataframe\">\n",
       "  <thead>\n",
       "    <tr style=\"text-align: right;\">\n",
       "      <th></th>\n",
       "      <th>gender_group</th>\n",
       "      <th>profit</th>\n",
       "    </tr>\n",
       "  </thead>\n",
       "  <tbody>\n",
       "    <tr>\n",
       "      <td>0</td>\n",
       "      <td>Female</td>\n",
       "      <td>-22975</td>\n",
       "    </tr>\n",
       "    <tr>\n",
       "      <td>1</td>\n",
       "      <td>Male</td>\n",
       "      <td>-5137</td>\n",
       "    </tr>\n",
       "    <tr>\n",
       "      <td>2</td>\n",
       "      <td>Unkown</td>\n",
       "      <td>-180</td>\n",
       "    </tr>\n",
       "  </tbody>\n",
       "</table>\n",
       "</div>"
      ],
      "text/plain": [
       "  gender_group  profit\n",
       "0       Female  -22975\n",
       "1         Male   -5137\n",
       "2       Unkown    -180"
      ]
     },
     "execution_count": 229,
     "metadata": {},
     "output_type": "execute_result"
    }
   ],
   "source": [
    "#取出亏损牛仔裤的数据， groupby gender\n",
    "uni_jean = uni_clean[(uni_clean['product']=='牛仔裤') & (uni_clean['profit']<0) ].groupby(['gender_group'])['profit'].sum().reset_index()\n",
    "uni_jean"
   ]
  },
  {
   "cell_type": "code",
   "execution_count": 235,
   "metadata": {},
   "outputs": [
    {
     "data": {
      "image/png": "[encoded data removed]",
      "text/plain": [
       "<Figure size 432x288 with 1 Axes>"
      ]
     },
     "metadata": {},
     "output_type": "display_data"
    }
   ],
   "source": [
    "# 亏损牛仔裤销售额男女比\n",
    "colors = ['lightcoral', 'lightskyblue', 'yellowgreen']\n",
    "explode = (0.1, 0, 0)  # explode 1st slice\n",
    "\n",
    "# Plot\n",
    "plt.pie(-1*uni_jean['profit'], explode=explode, labels=uni_jean['gender_group'], colors=colors,\n",
    "autopct='%1.1f%%', shadow=True, startangle=140)\n",
    "\n",
    "plt.axis('equal')\n",
    "plt.show()"
   ]
  },
  {
   "cell_type": "markdown",
   "metadata": {},
   "source": [
    "# 结论：\n",
    "亏损最多的产品是牛仔裤；T恤，运动和当季新品随其后。亏损牛仔裤销售额八成来自女性顾客。"
   ]
  },
  {
   "cell_type": "markdown",
   "metadata": {},
   "source": [
    "# 问题三：顾客偏爱那种购买方式？\n",
    "· 选择什么变量？\n",
    "\n",
    "    gender_group, age_group, city\n",
    "    channel\n",
    "\n",
    "· 呈现怎样的数据关系？\n",
    "    \n",
    "    比较不同性别，年龄，城市的顾客喜爱线上/线下购买方式。\n",
    "\n",
    "· 选择怎样的图表？\n",
    "    \n",
    "    柱状图\n"
   ]
  },
  {
   "cell_type": "markdown",
   "metadata": {},
   "source": [
    "seaborn color palette:\n",
    "https://seaborn.pydata.org/tutorial/color_palettes.html"
   ]
  },
  {
   "cell_type": "code",
   "execution_count": 161,
   "metadata": {},
   "outputs": [
    {
     "data": {
      "text/plain": [
       "<matplotlib.axes._subplots.AxesSubplot at 0x1a78afa3988>"
      ]
     },
     "execution_count": 161,
     "metadata": {},
     "output_type": "execute_result"
    },
    {
     "data": {
      "image/png": "[encoded data removed]",
      "text/plain": [
       "<Figure size 432x288 with 1 Axes>"
      ]
     },
     "metadata": {},
     "output_type": "display_data"
    }
   ],
   "source": [
    "uni_channel_gender = uni_clean.groupby(['gender_group','channel'])['customer'].sum().reset_index().sort_values('customer',ascending=False)\n",
    "uni_channel_gender\n",
    "sns.barplot(x='gender_group',y='customer',hue='channel',data=uni_channel_gender, palette=\"Paired\")"
   ]
  },
  {
   "cell_type": "code",
   "execution_count": 163,
   "metadata": {},
   "outputs": [
    {
     "data": {
      "text/plain": [
       "<matplotlib.axes._subplots.AxesSubplot at 0x1a78b012bc8>"
      ]
     },
     "execution_count": 163,
     "metadata": {},
     "output_type": "execute_result"
    },
    {
     "data": {
      "image/png": "[encoded data removed]",
      "text/plain": [
       "<Figure size 432x288 with 1 Axes>"
      ]
     },
     "metadata": {},
     "output_type": "display_data"
    }
   ],
   "source": [
    "age_order = ['<20','20-24','25-29',  '30-34','35-39',  '40-44','45-49', '50-54','55-59','>=60', 'Unkown']\n",
    "uni_channel_age = uni_clean.groupby(['age_group','channel'])['customer'].sum().reset_index()\n",
    "uni_channel_age\n",
    "sns.barplot(x='age_group',y='customer',hue='channel',data=uni_channel_age, order=age_order, palette=\"Paired\")"
   ]
  },
  {
   "cell_type": "code",
   "execution_count": 165,
   "metadata": {},
   "outputs": [
    {
     "data": {
      "text/plain": [
       "<matplotlib.axes._subplots.AxesSubplot at 0x1a78c19bb48>"
      ]
     },
     "execution_count": 165,
     "metadata": {},
     "output_type": "execute_result"
    },
    {
     "data": {
      "image/png": "[encoded data removed]",
      "text/plain": [
       "<Figure size 432x288 with 1 Axes>"
      ]
     },
     "metadata": {},
     "output_type": "display_data"
    }
   ],
   "source": [
    "uni_channel_city = uni_clean.groupby(['city','channel'])['customer'].sum().reset_index().sort_values('customer',ascending=False)\n",
    "uni_channel_city\n",
    "sns.barplot(x='city',y='customer',hue='channel',data=uni_channel_city, palette=\"Paired\")"
   ]
  },
  {
   "cell_type": "markdown",
   "metadata": {},
   "source": [
    "# 结论：\n",
    "1. 不同性别顾客都偏爱线下购买\n",
    "2. 主要顾客集中在20-40岁，且都偏爱线下购买\n",
    "3. 只有武汉，广州，上海，西安，重庆的顾客会线上购买。广州顾客更偏爱线上，武汉顾客无明显偏爱，其他城市顾客均偏爱线下购买。"
   ]
  },
  {
   "cell_type": "markdown",
   "metadata": {},
   "source": [
    "# 问题四：销售额和产品成本之间的关系怎么样？\n",
    "· 选择什么变量？\n",
    "\n",
    "    revenue，cost\n",
    "\n",
    "· 呈现怎样的数据关系？\n",
    "    \n",
    "    销售额于成本之间的相关关系。\n",
    "\n",
    "· 选择怎样的图表？\n",
    "    \n",
    "    热力图/散点图\n"
   ]
  },
  {
   "cell_type": "code",
   "execution_count": 181,
   "metadata": {},
   "outputs": [
    {
     "data": {
      "text/html": [
       "<div>\n",
       "<style scoped>\n",
       "    .dataframe tbody tr th:only-of-type {\n",
       "        vertical-align: middle;\n",
       "    }\n",
       "\n",
       "    .dataframe tbody tr th {\n",
       "        vertical-align: top;\n",
       "    }\n",
       "\n",
       "    .dataframe thead th {\n",
       "        text-align: right;\n",
       "    }\n",
       "</style>\n",
       "<table border=\"1\" class=\"dataframe\">\n",
       "  <thead>\n",
       "    <tr style=\"text-align: right;\">\n",
       "      <th></th>\n",
       "      <th>uni_revenue_of_product</th>\n",
       "      <th>uni_profit_of_product</th>\n",
       "      <th>unit_cost</th>\n",
       "      <th>unit_price</th>\n",
       "    </tr>\n",
       "  </thead>\n",
       "  <tbody>\n",
       "    <tr>\n",
       "      <td>uni_revenue_of_product</td>\n",
       "      <td>1.000000</td>\n",
       "      <td>0.911672</td>\n",
       "      <td>0.502248</td>\n",
       "      <td>0.999996</td>\n",
       "    </tr>\n",
       "    <tr>\n",
       "      <td>uni_profit_of_product</td>\n",
       "      <td>0.911672</td>\n",
       "      <td>1.000000</td>\n",
       "      <td>0.102566</td>\n",
       "      <td>0.911735</td>\n",
       "    </tr>\n",
       "    <tr>\n",
       "      <td>unit_cost</td>\n",
       "      <td>0.502248</td>\n",
       "      <td>0.102566</td>\n",
       "      <td>1.000000</td>\n",
       "      <td>0.502125</td>\n",
       "    </tr>\n",
       "    <tr>\n",
       "      <td>unit_price</td>\n",
       "      <td>0.999996</td>\n",
       "      <td>0.911735</td>\n",
       "      <td>0.502125</td>\n",
       "      <td>1.000000</td>\n",
       "    </tr>\n",
       "  </tbody>\n",
       "</table>\n",
       "</div>"
      ],
      "text/plain": [
       "                        uni_revenue_of_product  uni_profit_of_product  \\\n",
       "uni_revenue_of_product                1.000000               0.911672   \n",
       "uni_profit_of_product                 0.911672               1.000000   \n",
       "unit_cost                             0.502248               0.102566   \n",
       "unit_price                            0.999996               0.911735   \n",
       "\n",
       "                        unit_cost  unit_price  \n",
       "uni_revenue_of_product   0.502248    0.999996  \n",
       "uni_profit_of_product    0.102566    0.911735  \n",
       "unit_cost                1.000000    0.502125  \n",
       "unit_price               0.502125    1.000000  "
      ]
     },
     "execution_count": 181,
     "metadata": {},
     "output_type": "execute_result"
    }
   ],
   "source": [
    "uni_clean['uni_revenue_of_product'] = uni_clean['revenue']/uni_clean['quant']\n",
    "uni_clean['uni_profit_of_product'] = uni_clean['profit']/uni_clean['quant']\n",
    "cor = uni_clean[['uni_revenue_of_product','uni_profit_of_product','unit_cost','unit_price']].corr()\n",
    "cor"
   ]
  },
  {
   "cell_type": "code",
   "execution_count": 182,
   "metadata": {},
   "outputs": [
    {
     "data": {
      "text/plain": [
       "<matplotlib.axes._subplots.AxesSubplot at 0x1a78c62fe48>"
      ]
     },
     "execution_count": 182,
     "metadata": {},
     "output_type": "execute_result"
    },
    {
     "data": {
      "image/png": "[encoded data removed]",
      "text/plain": [
       "<Figure size 432x288 with 2 Axes>"
      ]
     },
     "metadata": {},
     "output_type": "display_data"
    }
   ],
   "source": [
    "sns.heatmap(cor)"
   ]
  },
  {
   "cell_type": "markdown",
   "metadata": {},
   "source": [
    "# 结论：\n",
    "单位商品的销售额与成本之间是成正相关的，相关系数为0.5；单位商品的销售额与利润成强正相关，相关系数为0.91；商品的成本与利润的相关性很低，仅为0.1; 但商品的售价和利润相关性很高，相关系数为0.91."
   ]
  },
  {
   "cell_type": "markdown",
   "metadata": {},
   "source": [
    "# Question：怎么解释上面的系数呢？有什么业务建议呢？不太懂"
   ]
  },
  {
   "cell_type": "markdown",
   "metadata": {},
   "source": [
    "# 总结：\n",
    "1. 线下日均销售额及利润远高于线上，但单笔订单产品数量和人均消费额没有太大差别\n",
    "\n",
    "\n",
    "2. 女性顾客带来的日均销售额及利润远高于男性顾客\n",
    "\n",
    "\n",
    "3. 周末日均销售额和利润远超周中\n",
    "\n",
    "\n",
    "4. 不论顾客性别是男是女，周末的顾客数量都远高于周中，但人均消费额周末/周中没有太大差别。\n",
    "    \n",
    "    可以尝试一些措施提高女性顾客的周末人均消费额（店铺成列/服饰搭配吸引周末逛街的女生）\n",
    "    \n",
    "    \n",
    "5. 产品表现：\n",
    "\n",
    "    销售最好的是T恤，七成销量来自女性顾客；亏损最多的是牛仔裤，八成亏损来自女性顾客。\n",
    "    \n",
    "    \n",
    "6. 购买渠道偏好：\n",
    "       \n",
    "    主要顾客集中在20-40岁，且不论性别都偏爱线下购买\n",
    "    \n",
    "    只有武汉，广州，上海，西安，重庆的顾客会线上购买。广州顾客更偏爱线上，其他城市顾客均偏爱线下购买。可以针对广州，武汉采用不同的线上营销措施。"
   ]
  }
 ],
 "metadata": {
  "kernelspec": {
   "display_name": "Python 3",
   "language": "python",
   "name": "python3"
  },
  "language_info": {
   "codemirror_mode": {
    "name": "ipython",
    "version": 3
   },
   "file_extension": ".py",
   "mimetype": "text/x-python",
   "name": "python",
   "nbconvert_exporter": "python",
   "pygments_lexer": "ipython3",
   "version": "3.7.6"
  }
 },
 "nbformat": 4,
 "nbformat_minor": 2
}
